{
  "nbformat": 4,
  "nbformat_minor": 0,
  "metadata": {
    "kernelspec": {
      "display_name": "Python 3",
      "language": "python",
      "name": "python3"
    },
    "language_info": {
      "codemirror_mode": {
        "name": "ipython",
        "version": 3
      },
      "file_extension": ".py",
      "mimetype": "text/x-python",
      "name": "python",
      "nbconvert_exporter": "python",
      "pygments_lexer": "ipython3",
      "version": "3.8.3"
    },
    "colab": {
      "name": "losant.ipynb",
      "provenance": []
    }
  },
  "cells": [
    {
      "cell_type": "code",
      "metadata": {
        "id": "fqV6CnZcfyR9",
        "colab_type": "code",
        "colab": {
          "base_uri": "https://localhost:8080/",
          "height": 225
        },
        "outputId": "42bbd7f9-0083-4557-9062-a64c22788bd8"
      },
      "source": [
        "pip install losant-mqtt"
      ],
      "execution_count": 3,
      "outputs": [
        {
          "output_type": "stream",
          "text": [
            "Collecting losant-mqtt\n",
            "  Downloading https://files.pythonhosted.org/packages/94/26/27e55f1bd02b2034456bab4d4652ef10231421702b8420a51693f7fdaa9d/losant_mqtt-1.2.0-py3-none-any.whl\n",
            "Collecting paho-mqtt<2,>=1.2\n",
            "\u001b[?25l  Downloading https://files.pythonhosted.org/packages/59/11/1dd5c70f0f27a88a3a05772cd95f6087ac479fac66d9c7752ee5e16ddbbc/paho-mqtt-1.5.0.tar.gz (99kB)\n",
            "\u001b[K     |████████████████████████████████| 102kB 3.0MB/s \n",
            "\u001b[?25hBuilding wheels for collected packages: paho-mqtt\n",
            "  Building wheel for paho-mqtt (setup.py) ... \u001b[?25l\u001b[?25hdone\n",
            "  Created wheel for paho-mqtt: filename=paho_mqtt-1.5.0-cp36-none-any.whl size=61415 sha256=241f90c4f0bb461d6609034ed618e98c2f9daada95eee6fce189d6af148d88fe\n",
            "  Stored in directory: /root/.cache/pip/wheels/02/94/6c/8474137cb7a5a3e001d70a22c8ff919caee69435376bccce79\n",
            "Successfully built paho-mqtt\n",
            "Installing collected packages: paho-mqtt, losant-mqtt\n",
            "Successfully installed losant-mqtt-1.2.0 paho-mqtt-1.5.0\n"
          ],
          "name": "stdout"
        }
      ]
    },
    {
      "cell_type": "code",
      "metadata": {
        "id": "WcBTkdOdfySB",
        "colab_type": "code",
        "colab": {
          "base_uri": "https://localhost:8080/",
          "height": 1000
        },
        "outputId": "18f74241-4e50-494c-91af-e00541e01221"
      },
      "source": [
        "import time\n",
        "import random\n",
        "from losantmqtt import Device\n",
        "\n",
        "#Location Array [Google, Amazon, Cisco, Facebook]\n",
        "locations = [\"37.4216531,-122.0850663\"]\n",
        "serverNames = [\"Google\"]\n",
        "\n",
        "# Construct device\n",
        "device = Device(\"5f42ccc5a45d4b000755aac6\", \"4724889f-95ec-47e1-b0c7-87bf239af74c\", \"cba7750f2e1423ef39e2de377199cfb5f700954142e47a853a84288baca0aace\")\n",
        "\n",
        "def on_command(device, command):\n",
        "    print(\"Command received.\")\n",
        "    print(command[\"name\"])\n",
        "    print(command[\"payload\"])\n",
        "    \n",
        "def tempServerSort():\n",
        "    serverTemp = random.randint(27, 33)\n",
        "    serverNumber = 0\n",
        "    serverHumidity = random.randint(1, 10)\n",
        "    tempServArray = [serverTemp, serverNumber, serverHumidity]\n",
        "    return(tempServArray)\n",
        "\n",
        "# Listen for commands.\n",
        "device.add_event_observer(\"command\", on_command)\n",
        "\n",
        "# Connect to Losant.\n",
        "device.connect(blocking=False)\n",
        "\n",
        "# Send temperature once every second.\n",
        "while True:\n",
        "    device.loop()\n",
        "    if device.is_connected():\n",
        "        temp = tempServerSort()[0]\n",
        "        server = tempServerSort()[1]\n",
        "        humidity = tempServerSort()[2]\n",
        "        device.send_state({\"location\": locations[server]})\n",
        "        device.send_state({\"serverTemp\": temp})\n",
        "        device.send_state({\"serverNum\":server})\n",
        "        device.send_state({\"serverHumidity\":humidity})\n",
        "        \n",
        "        print(locations[server])\n",
        "        print(temp)\n",
        "        print(humidity)\n",
        "        print(serverNames[server])\n",
        "    time.sleep(5)"
      ],
      "execution_count": 4,
      "outputs": [
        {
          "output_type": "stream",
          "text": [
            "37.4216531,-122.0850663\n",
            "27\n",
            "5\n",
            "Google\n",
            "37.4216531,-122.0850663\n",
            "28\n",
            "8\n",
            "Google\n",
            "37.4216531,-122.0850663\n",
            "30\n",
            "9\n",
            "Google\n",
            "37.4216531,-122.0850663\n",
            "32\n",
            "9\n",
            "Google\n",
            "37.4216531,-122.0850663\n",
            "33\n",
            "2\n",
            "Google\n",
            "37.4216531,-122.0850663\n",
            "29\n",
            "10\n",
            "Google\n",
            "37.4216531,-122.0850663\n",
            "30\n",
            "9\n",
            "Google\n",
            "37.4216531,-122.0850663\n",
            "32\n",
            "6\n",
            "Google\n",
            "37.4216531,-122.0850663\n",
            "30\n",
            "5\n",
            "Google\n",
            "37.4216531,-122.0850663\n",
            "32\n",
            "8\n",
            "Google\n",
            "37.4216531,-122.0850663\n",
            "33\n",
            "5\n",
            "Google\n",
            "37.4216531,-122.0850663\n",
            "33\n",
            "1\n",
            "Google\n",
            "37.4216531,-122.0850663\n",
            "29\n",
            "4\n",
            "Google\n",
            "37.4216531,-122.0850663\n",
            "27\n",
            "2\n",
            "Google\n",
            "37.4216531,-122.0850663\n",
            "32\n",
            "7\n",
            "Google\n",
            "37.4216531,-122.0850663\n",
            "28\n",
            "5\n",
            "Google\n",
            "37.4216531,-122.0850663\n",
            "32\n",
            "7\n",
            "Google\n",
            "37.4216531,-122.0850663\n",
            "29\n",
            "7\n",
            "Google\n",
            "37.4216531,-122.0850663\n",
            "33\n",
            "3\n",
            "Google\n",
            "37.4216531,-122.0850663\n",
            "32\n",
            "10\n",
            "Google\n",
            "37.4216531,-122.0850663\n",
            "32\n",
            "10\n",
            "Google\n",
            "37.4216531,-122.0850663\n",
            "30\n",
            "2\n",
            "Google\n",
            "37.4216531,-122.0850663\n",
            "30\n",
            "2\n",
            "Google\n",
            "37.4216531,-122.0850663\n",
            "33\n",
            "4\n",
            "Google\n",
            "37.4216531,-122.0850663\n",
            "27\n",
            "10\n",
            "Google\n",
            "37.4216531,-122.0850663\n",
            "33\n",
            "2\n",
            "Google\n",
            "37.4216531,-122.0850663\n",
            "28\n",
            "9\n",
            "Google\n"
          ],
          "name": "stdout"
        },
        {
          "output_type": "error",
          "ename": "KeyboardInterrupt",
          "evalue": "ignored",
          "traceback": [
            "\u001b[0;31m---------------------------------------------------------------------------\u001b[0m",
            "\u001b[0;31mKeyboardInterrupt\u001b[0m                         Traceback (most recent call last)",
            "\u001b[0;32m<ipython-input-4-9e4681083719>\u001b[0m in \u001b[0;36m<module>\u001b[0;34m()\u001b[0m\n\u001b[1;32m     44\u001b[0m         \u001b[0mprint\u001b[0m\u001b[0;34m(\u001b[0m\u001b[0mhumidity\u001b[0m\u001b[0;34m)\u001b[0m\u001b[0;34m\u001b[0m\u001b[0;34m\u001b[0m\u001b[0m\n\u001b[1;32m     45\u001b[0m         \u001b[0mprint\u001b[0m\u001b[0;34m(\u001b[0m\u001b[0mserverNames\u001b[0m\u001b[0;34m[\u001b[0m\u001b[0mserver\u001b[0m\u001b[0;34m]\u001b[0m\u001b[0;34m)\u001b[0m\u001b[0;34m\u001b[0m\u001b[0;34m\u001b[0m\u001b[0m\n\u001b[0;32m---> 46\u001b[0;31m     \u001b[0mtime\u001b[0m\u001b[0;34m.\u001b[0m\u001b[0msleep\u001b[0m\u001b[0;34m(\u001b[0m\u001b[0;36m5\u001b[0m\u001b[0;34m)\u001b[0m\u001b[0;34m\u001b[0m\u001b[0;34m\u001b[0m\u001b[0m\n\u001b[0m",
            "\u001b[0;31mKeyboardInterrupt\u001b[0m: "
          ]
        }
      ]
    },
    {
      "cell_type": "code",
      "metadata": {
        "id": "ame37J4BfySD",
        "colab_type": "code",
        "colab": {}
      },
      "source": [
        "import random\n",
        "serverNumber = random.randint(1,4)\n",
        "print(serverNumber)"
      ],
      "execution_count": null,
      "outputs": []
    },
    {
      "cell_type": "code",
      "metadata": {
        "id": "EDQMpvP4fySH",
        "colab_type": "code",
        "colab": {}
      },
      "source": [
        "pass"
      ],
      "execution_count": null,
      "outputs": []
    },
    {
      "cell_type": "code",
      "metadata": {
        "id": "pD9AVpOEfySJ",
        "colab_type": "code",
        "colab": {},
        "outputId": "eff9ba34-8853-4501-c326-4a7f2bcddb0c"
      },
      "source": [
        "print(1)"
      ],
      "execution_count": null,
      "outputs": [
        {
          "output_type": "stream",
          "text": [
            "1\n"
          ],
          "name": "stdout"
        }
      ]
    },
    {
      "cell_type": "code",
      "metadata": {
        "id": "MwPCW5zkfySL",
        "colab_type": "code",
        "colab": {}
      },
      "source": [
        ""
      ],
      "execution_count": null,
      "outputs": []
    }
  ]
}